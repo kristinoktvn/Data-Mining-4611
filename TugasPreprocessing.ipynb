{
 "cells": [
  {
   "cell_type": "code",
   "execution_count": 2,
   "metadata": {
    "id": "KRFvANeG7Dd4"
   },
   "outputs": [],
   "source": [
    "import numpy as np\n",
    "import matplotlib.pyplot as plt\n",
    "import pandas as pd"
   ]
  },
  {
   "cell_type": "code",
   "execution_count": 3,
   "metadata": {
    "id": "IPK4YLaN7Kwf"
   },
   "outputs": [],
   "source": [
    "dataset = pd.read_csv('Data.csv')\n",
    "x = dataset.iloc[:, 1:4].values\n",
    "y = dataset.iloc[:, -1].values"
   ]
  },
  {
   "cell_type": "code",
   "execution_count": 4,
   "metadata": {
    "colab": {
     "base_uri": "https://localhost:8080/"
    },
    "id": "h2pGDvF97Z6X",
    "outputId": "5d4dbe0f-f6fc-4bfa-b3d7-a9eddb547e26"
   },
   "outputs": [
    {
     "name": "stdout",
     "output_type": "stream",
     "text": [
      "[['Malaysia' 44.0 72000.0]\n",
      " ['Singapore' 27.0 48000.0]\n",
      " ['Thailand' 30.0 nan]\n",
      " ['Indonesia' nan 61000.0]\n",
      " ['Indonesia' 40.0 25000.0]\n",
      " ['Singapore' 35.0 58000.0]\n",
      " ['Thailand' 40.0 52000.0]\n",
      " ['Malaysia' 48.0 nan]\n",
      " ['Indonesia' 50.0 83000.0]\n",
      " ['China' 30.0 67000.0]]\n"
     ]
    }
   ],
   "source": [
    "print(x)"
   ]
  },
  {
   "cell_type": "code",
   "execution_count": 5,
   "metadata": {
    "colab": {
     "base_uri": "https://localhost:8080/"
    },
    "id": "dT5aEjIW7dMq",
    "outputId": "38840948-6645-4c3a-8673-c8b265cd8c56"
   },
   "outputs": [
    {
     "name": "stdout",
     "output_type": "stream",
     "text": [
      "['No' 'Yes' 'No' 'Yes' 'No' 'Yes' 'Yes' 'Yes' 'No' 'Yes']\n"
     ]
    }
   ],
   "source": [
    "print(y)"
   ]
  },
  {
   "cell_type": "code",
   "execution_count": 6,
   "metadata": {
    "id": "U_YsReX47gIO"
   },
   "outputs": [],
   "source": [
    "from sklearn.impute import SimpleImputer\n",
    "imputer = SimpleImputer(missing_values=np.nan, strategy='mean')\n",
    "imputer.fit(x[:, 1:3])\n",
    "x[:, 1:3] = imputer.transform(x[:, 1:3])"
   ]
  },
  {
   "cell_type": "code",
   "execution_count": 7,
   "metadata": {
    "colab": {
     "base_uri": "https://localhost:8080/"
    },
    "id": "ElDzrTjt7jkR",
    "outputId": "a7aa965d-c490-46c6-d721-9b434f05fc2b"
   },
   "outputs": [
    {
     "name": "stdout",
     "output_type": "stream",
     "text": [
      "[['Malaysia' 44.0 72000.0]\n",
      " ['Singapore' 27.0 48000.0]\n",
      " ['Thailand' 30.0 58250.0]\n",
      " ['Indonesia' 38.22222222222222 61000.0]\n",
      " ['Indonesia' 40.0 25000.0]\n",
      " ['Singapore' 35.0 58000.0]\n",
      " ['Thailand' 40.0 52000.0]\n",
      " ['Malaysia' 48.0 58250.0]\n",
      " ['Indonesia' 50.0 83000.0]\n",
      " ['China' 30.0 67000.0]]\n"
     ]
    }
   ],
   "source": [
    "print(x)"
   ]
  },
  {
   "cell_type": "code",
   "execution_count": 8,
   "metadata": {
    "id": "fc9Xxs3s72PH"
   },
   "outputs": [],
   "source": [
    "from sklearn.compose import ColumnTransformer\n",
    "from sklearn.preprocessing import OneHotEncoder\n",
    "ct = ColumnTransformer(transformers=[('encoder', OneHotEncoder(), [0])], remainder='passthrough')\n",
    "x = np.array(ct.fit_transform(x))"
   ]
  },
  {
   "cell_type": "code",
   "execution_count": 22,
   "metadata": {
    "colab": {
     "base_uri": "https://localhost:8080/"
    },
    "id": "wHQu5Mqw8K5B",
    "outputId": "a619ac2c-dd0e-4ba2-86da-ff68989e252f"
   },
   "outputs": [
    {
     "name": "stdout",
     "output_type": "stream",
     "text": [
      "[[0.0 0.0 1.0 0.0 0.0 44.0 72000.0]\n",
      " [0.0 0.0 0.0 1.0 0.0 27.0 48000.0]\n",
      " [0.0 0.0 0.0 0.0 1.0 30.0 58250.0]\n",
      " [0.0 1.0 0.0 0.0 0.0 38.22222222222222 61000.0]\n",
      " [0.0 1.0 0.0 0.0 0.0 40.0 25000.0]\n",
      " [0.0 0.0 0.0 1.0 0.0 35.0 58000.0]\n",
      " [0.0 0.0 0.0 0.0 1.0 40.0 52000.0]\n",
      " [0.0 0.0 1.0 0.0 0.0 48.0 58250.0]\n",
      " [0.0 1.0 0.0 0.0 0.0 50.0 83000.0]\n",
      " [1.0 0.0 0.0 0.0 0.0 30.0 67000.0]]\n"
     ]
    }
   ],
   "source": [
    "print(x)"
   ]
  },
  {
   "cell_type": "code",
   "execution_count": 10,
   "metadata": {
    "id": "ZvjOeUs67-7b"
   },
   "outputs": [],
   "source": [
    "from sklearn.preprocessing import LabelEncoder\n",
    "le = LabelEncoder()\n",
    "y = le.fit_transform(y)"
   ]
  },
  {
   "cell_type": "code",
   "execution_count": 11,
   "metadata": {
    "colab": {
     "base_uri": "https://localhost:8080/"
    },
    "id": "mEB8Re868CS-",
    "outputId": "ff395fa6-4ddd-4600-fb51-8a5de043b30a"
   },
   "outputs": [
    {
     "name": "stdout",
     "output_type": "stream",
     "text": [
      "[0 1 0 1 0 1 1 1 0 1]\n"
     ]
    }
   ],
   "source": [
    "print(y)"
   ]
  },
  {
   "cell_type": "code",
   "execution_count": 13,
   "metadata": {
    "id": "h5Q6QRF-8OBu"
   },
   "outputs": [],
   "source": [
    "from sklearn.model_selection import train_test_split\n",
    "x_train, x_test, y_train, y_test = train_test_split(x, y, test_size=0.2, random_state=1)"
   ]
  },
  {
   "cell_type": "code",
   "execution_count": 14,
   "metadata": {
    "colab": {
     "base_uri": "https://localhost:8080/"
    },
    "id": "5ksLN-wI8RZw",
    "outputId": "62005773-2ece-4297-bd29-de5395bc8cf1"
   },
   "outputs": [
    {
     "name": "stdout",
     "output_type": "stream",
     "text": [
      "[[0.0 0.0 0.0 0.0 1.0 40.0 52000.0]\n",
      " [0.0 1.0 0.0 0.0 0.0 40.0 25000.0]\n",
      " [0.0 0.0 1.0 0.0 0.0 44.0 72000.0]\n",
      " [0.0 1.0 0.0 0.0 0.0 38.22222222222222 61000.0]\n",
      " [0.0 0.0 0.0 1.0 0.0 27.0 48000.0]\n",
      " [0.0 0.0 1.0 0.0 0.0 48.0 58250.0]\n",
      " [0.0 1.0 0.0 0.0 0.0 50.0 83000.0]\n",
      " [0.0 0.0 0.0 1.0 0.0 35.0 58000.0]]\n"
     ]
    }
   ],
   "source": [
    "print(x_train)"
   ]
  },
  {
   "cell_type": "code",
   "execution_count": 15,
   "metadata": {
    "colab": {
     "base_uri": "https://localhost:8080/"
    },
    "id": "SxdSWNs58YSr",
    "outputId": "3b38e1f8-dbcc-4c10-fb11-9c57d79a9c22"
   },
   "outputs": [
    {
     "name": "stdout",
     "output_type": "stream",
     "text": [
      "[[0.0 0.0 0.0 0.0 1.0 30.0 58250.0]\n",
      " [1.0 0.0 0.0 0.0 0.0 30.0 67000.0]]\n"
     ]
    }
   ],
   "source": [
    "print(x_test)"
   ]
  },
  {
   "cell_type": "code",
   "execution_count": 16,
   "metadata": {
    "colab": {
     "base_uri": "https://localhost:8080/"
    },
    "id": "5DWwQi7z8enD",
    "outputId": "d21fe5fd-e059-4761-a3fa-26b7e76ef2d3"
   },
   "outputs": [
    {
     "name": "stdout",
     "output_type": "stream",
     "text": [
      "[1 0 0 1 1 1 0 1]\n"
     ]
    }
   ],
   "source": [
    "print(y_train)"
   ]
  },
  {
   "cell_type": "code",
   "execution_count": 17,
   "metadata": {
    "colab": {
     "base_uri": "https://localhost:8080/"
    },
    "id": "zv2gZdeM8k6P",
    "outputId": "3eef103f-dfe9-44cb-bc01-0377663e370c"
   },
   "outputs": [
    {
     "name": "stdout",
     "output_type": "stream",
     "text": [
      "[0 1]\n"
     ]
    }
   ],
   "source": [
    "print(y_test)"
   ]
  },
  {
   "cell_type": "code",
   "execution_count": 29,
   "metadata": {
    "id": "JIrQpLt58nNn"
   },
   "outputs": [],
   "source": [
    "from sklearn.preprocessing import StandardScaler\n",
    "sc = StandardScaler()\n",
    "x_train[:, 3:] = sc.fit_transform(x_train[:, 3:])\n",
    "x_test[:, 3:] = sc.transform(x_test[:, 3:])"
   ]
  },
  {
   "cell_type": "code",
   "execution_count": 30,
   "metadata": {
    "colab": {
     "base_uri": "https://localhost:8080/"
    },
    "id": "m9EUPVmb-RcI",
    "outputId": "ba3563bf-b4bd-4d36-dc3d-c69ccadeb763"
   },
   "outputs": [
    {
     "name": "stdout",
     "output_type": "stream",
     "text": [
      "[[0.0 0.0 0.0 -0.5773502691896258 2.645751311064591 -0.04048881650894582\n",
      "  -0.3221581110696072]\n",
      " [0.0 1.0 0.0 -0.5773502691896258 -0.37796447300922725\n",
      "  -0.04048881650894582 -2.009095129034096]\n",
      " [0.0 0.0 1.0 -0.5773502691896258 -0.37796447300922725 0.5425501412198737\n",
      "  0.9274248652003845]\n",
      " [0.0 1.0 0.0 -0.5773502691896258 -0.37796447300922725\n",
      "  -0.2996172421661991 0.24015422825188906]\n",
      " [0.0 0.0 0.0 1.7320508075688774 -0.37796447300922725 -1.9353654291276092\n",
      "  -0.5720747063236056]\n",
      " [0.0 0.0 1.0 -0.5773502691896258 -0.37796447300922725 1.1255890989486934\n",
      "  0.06833656901476523]\n",
      " [0.0 1.0 0.0 -0.5773502691896258 -0.37796447300922725 1.4171085778131032\n",
      "  1.6146955021488798]\n",
      " [0.0 0.0 0.0 1.7320508075688774 -0.37796447300922725 -0.7692875136699702\n",
      "  0.05271678181139032]]\n"
     ]
    }
   ],
   "source": [
    "print(x_train)"
   ]
  },
  {
   "cell_type": "code",
   "execution_count": 31,
   "metadata": {
    "colab": {
     "base_uri": "https://localhost:8080/"
    },
    "id": "XWVIgwef-VDO",
    "outputId": "fb9dab21-0a15-4119-d7ea-244862294f21"
   },
   "outputs": [
    {
     "name": "stdout",
     "output_type": "stream",
     "text": [
      "[[0.0 0.0 0.0 -0.5773502691896258 2.645751311064591 -1.4980862108309945\n",
      "  0.06833656901476523]\n",
      " [1.0 0.0 0.0 -0.5773502691896258 -0.37796447300922725\n",
      "  -1.4980862108309945 0.6150291211328867]]\n"
     ]
    }
   ],
   "source": [
    "print(x_test)"
   ]
  }
 ],
 "metadata": {
  "colab": {
   "name": "TugasPreprocessing.ipynb",
   "provenance": []
  },
  "kernelspec": {
   "display_name": "Python 3",
   "language": "python",
   "name": "python3"
  },
  "language_info": {
   "codemirror_mode": {
    "name": "ipython",
    "version": 3
   },
   "file_extension": ".py",
   "mimetype": "text/x-python",
   "name": "python",
   "nbconvert_exporter": "python",
   "pygments_lexer": "ipython3",
   "version": "3.9.2"
  }
 },
 "nbformat": 4,
 "nbformat_minor": 1
}
